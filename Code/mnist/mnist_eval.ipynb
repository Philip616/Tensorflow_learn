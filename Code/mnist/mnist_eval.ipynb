{
 "cells": [
  {
   "cell_type": "code",
   "execution_count": 1,
   "metadata": {},
   "outputs": [
    {
     "name": "stderr",
     "output_type": "stream",
     "text": [
      "C:\\Users\\Philip\\Anaconda3\\lib\\site-packages\\h5py\\__init__.py:36: FutureWarning: Conversion of the second argument of issubdtype from `float` to `np.floating` is deprecated. In future, it will be treated as `np.float64 == np.dtype(float).type`.\n",
      "  from ._conv import register_converters as _register_converters\n"
     ]
    }
   ],
   "source": [
    "import time\n",
    "import tensorflow as tf\n",
    "from tensorflow.examples.tutorials.mnist import input_data\n",
    "\n",
    "import mnist_train\n",
    "import mnist_inference"
   ]
  },
  {
   "cell_type": "code",
   "execution_count": 2,
   "metadata": {},
   "outputs": [],
   "source": [
    "EVAL_INTERVAL_SECS = 10\n",
    "\n",
    "def evaluate(mnist):\n",
    "    with tf.Graph().as_default() as g:\n",
    "        x = tf.placeholder(tf.float32, [None, mnist_inference.INPUT_NODE], name=\"x-input\")\n",
    "        y = tf.placeholder(tf.float32, [None, mnist_inference.OUTPUT_NODE], name=\"y-input\")\n",
    "        \n",
    "        validata_feed = {x: mnist.validation.images,\n",
    "                         y: mnist.validation.labels}\n",
    "        \n",
    "        y_ = mnist_inference.inference(x, None)\n",
    "        \n",
    "        correct_prediction = tf.equal(tf.argmax(y_, 1), tf.argmax(y, 1))\n",
    "        accuracy = tf.reduce_mean(tf.cast(correct_prediction, tf.float32))\n",
    "        \n",
    "        #變量重命名來加載模型，就可以調用mnist_inference.inference的前向傳播來計算移動平均了\n",
    "        variable_averages = tf.train.ExponentialMovingAverage(mnist_train.MOVING_AVERAGE_DECAY)\n",
    "        variable_to_restore = variable_averages.variables_to_restore()\n",
    "        saver = tf.train.Saver(variable_to_restore)\n",
    "    \n",
    "        while True:\n",
    "            with tf.Session() as sess:\n",
    "                ckpt = tf.train.get_checkpoint_state(mnist_train.MODEL_SAVE_PATH)\n",
    "                \n",
    "                if (ckpt and ckpt.model_checkpoint_path):\n",
    "                    saver.restore(sess, ckpt.model_checkpoint_path)\n",
    "                    \n",
    "                    global_step = ckpt.model_checkpoint_path.split('/')[-1].split('/')[-1]\n",
    "                    \n",
    "                    accuracy_score = sess.run(accuracy, feed_dict = validata_feed)\n",
    "                    \n",
    "                    print(\"After %s training step(s), validation accuracy = %g\" % (global_step, accuracy_score))\n",
    "                    \n",
    "                else:\n",
    "                    print(\"No checkpoint file found\")\n",
    "                    return\n",
    "                \n",
    "            time.sleep(EVAL_INTERVAL_SECS)\n"
   ]
  },
  {
   "cell_type": "code",
   "execution_count": 5,
   "metadata": {},
   "outputs": [
    {
     "name": "stdout",
     "output_type": "stream",
     "text": [
      "Extracting ./MNIST DATA\\train-images-idx3-ubyte.gz\n",
      "Extracting ./MNIST DATA\\train-labels-idx1-ubyte.gz\n",
      "Extracting ./MNIST DATA\\t10k-images-idx3-ubyte.gz\n",
      "Extracting ./MNIST DATA\\t10k-labels-idx1-ubyte.gz\n",
      "No checkpoint file found\n"
     ]
    }
   ],
   "source": [
    "def main(argv=None):\n",
    "    mnist = input_data.read_data_sets(\"./MNIST DATA\", one_hot=True)\n",
    "    evaluate(mnist)\n",
    "\n",
    "if __name__ == '__main__':\n",
    "    main()"
   ]
  },
  {
   "cell_type": "code",
   "execution_count": null,
   "metadata": {},
   "outputs": [],
   "source": []
  }
 ],
 "metadata": {
  "kernelspec": {
   "display_name": "Python 3",
   "language": "python",
   "name": "python3"
  },
  "language_info": {
   "codemirror_mode": {
    "name": "ipython",
    "version": 3
   },
   "file_extension": ".py",
   "mimetype": "text/x-python",
   "name": "python",
   "nbconvert_exporter": "python",
   "pygments_lexer": "ipython3",
   "version": "3.6.3"
  }
 },
 "nbformat": 4,
 "nbformat_minor": 2
}
