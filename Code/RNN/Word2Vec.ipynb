{
 "cells": [
  {
   "cell_type": "code",
   "execution_count": 1,
   "metadata": {},
   "outputs": [
    {
     "name": "stderr",
     "output_type": "stream",
     "text": [
      "C:\\Users\\Philip\\Anaconda3\\lib\\site-packages\\h5py\\__init__.py:36: FutureWarning: Conversion of the second argument of issubdtype from `float` to `np.floating` is deprecated. In future, it will be treated as `np.float64 == np.dtype(float).type`.\n",
      "  from ._conv import register_converters as _register_converters\n"
     ]
    }
   ],
   "source": [
    "import collections\n",
    "import math\n",
    "import os\n",
    "import random\n",
    "import zipfile\n",
    "import numpy as np\n",
    "import urllib\n",
    "import tensorflow as tf"
   ]
  },
  {
   "cell_type": "code",
   "execution_count": 3,
   "metadata": {},
   "outputs": [
    {
     "name": "stdout",
     "output_type": "stream",
     "text": [
      "Found and verified text8.zip\n"
     ]
    }
   ],
   "source": [
    "url = 'http://mattmahoney.net/dc/'\n",
    "\n",
    "def maybe_download(filename, expected_bytes):\n",
    "    if not os.path.exists(filename):\n",
    "        filename, _ = urllib.request.urlretrieve(url + filename, filename)\n",
    "    stateinfo = os.stat(filename)\n",
    "    \n",
    "    if stateinfo.st_size == expected_bytes:\n",
    "        print('Found and verified', filename)\n",
    "    else:\n",
    "        print(stateinfo.st_size)\n",
    "        raise Exception(\n",
    "        'Failed to verify' + filename + '.Can you get to it with a browser?')\n",
    "    return filename\n",
    "\n",
    "filename = maybe_download('text8.zip',31344016)"
   ]
  },
  {
   "cell_type": "code",
   "execution_count": 4,
   "metadata": {},
   "outputs": [
    {
     "name": "stdout",
     "output_type": "stream",
     "text": [
      "Data size 17005207\n"
     ]
    }
   ],
   "source": [
    "def read_data(filename):\n",
    "    with zipfile.ZipFile(filename) as f:\n",
    "        data = tf.compat.as_str(f.read(f.namelist()[0])).split()\n",
    "    return data\n",
    "\n",
    "words = read_data(filename)\n",
    "print('Data size', len(words))"
   ]
  },
  {
   "cell_type": "code",
   "execution_count": 5,
   "metadata": {},
   "outputs": [],
   "source": [
    "vocabulary_size = 50000\n",
    "\n",
    "def build_dataset(words):\n",
    "    count = [['UNK', -1]]\n",
    "    #找出前50000個最常出現字詞\n",
    "    count.extend(collections.Counter(words).most_common(vocabulary_size - 1))\n",
    "    \n",
    "    #以頻數做為編號\n",
    "    dictionary = dict()\n",
    "    for word, _ in count:\n",
    "        dictionary[word] = len(dictionary)\n",
    "        \n",
    "    data = list()\n",
    "    unk_count = 0\n",
    "    \n",
    "    #剩下的詞編號統一為0\n",
    "    for word in words:\n",
    "        if word in dictionary:\n",
    "            index = dictionary[word]\n",
    "        else:\n",
    "            index = 0\n",
    "            unk_count +=1\n",
    "            \n",
    "        data.append(index)\n",
    "    \n",
    "    count[0][1] = unk_count\n",
    "    reverse_dictionary = dict(zip(dictionary.values(), dictionary.keys()))\n",
    "    return data, count, dictionary, reverse_dictionary\n",
    "\n",
    "data, count, dictionary, reverse_dictionary = build_dataset(words)"
   ]
  },
  {
   "cell_type": "code",
   "execution_count": 6,
   "metadata": {},
   "outputs": [
    {
     "name": "stdout",
     "output_type": "stream",
     "text": [
      "Most common words (+UNK) [['UNK', 418391], ('the', 1061396), ('of', 593677), ('and', 416629), ('one', 411764)]\n",
      "Sample data [5234, 3081, 12, 6, 195, 2, 3134, 46, 59, 156] ['anarchism', 'originated', 'as', 'a', 'term', 'of', 'abuse', 'first', 'used', 'against']\n"
     ]
    }
   ],
   "source": [
    "del words\n",
    "print('Most common words (+UNK)', count[:5])\n",
    "print('Sample data', data[:10], [reverse_dictionary[i] for i in data[:10]])"
   ]
  },
  {
   "cell_type": "code",
   "execution_count": 7,
   "metadata": {},
   "outputs": [],
   "source": [
    "data_index = 0\n",
    "\n",
    "#num_skips   要為每個單詞生成幾個養樣本，最多不能大於2倍skip_window，並且batch_size必須是它的整數倍\n",
    "#skip_window 表示每個單詞最遠可以跟鄰近幾個詞生成樣本\n",
    "\n",
    "def generate_batch(batch_size, num_skips, skip_window):\n",
    "    global data_index\n",
    "    assert (batch_size % num_skips == 0)\n",
    "    assert (num_skips <= 2 * skip_window)\n",
    "    \n",
    "    batch = np.ndarray(shape=(batch_size), dtype=np.int32)\n",
    "    labels = np.ndarray(shape=(batch_size, 1), dtype=np.int32)\n",
    "    #span為對某個單詞創建相關樣本時會用到的單詞數量\n",
    "    span = 2 * skip_window + 1\n",
    "    #deque為雙向隊列，這裡我們每次append的時候都只會添加span個變量\n",
    "    buffer = collections.deque(maxlen=span)\n",
    "    \n",
    "    for _ in range(span):\n",
    "        buffer.append(data[data_index])\n",
    "        data_index = (data_index + 1) % len(data)\n",
    "        \n",
    "    for i in range(batch_size // num_skips):\n",
    "        target = skip_window\n",
    "        targets_to_avoid = [skip_window]\n",
    "        \n",
    "        for j in range(num_skips):\n",
    "            while target in targets_to_avoid:\n",
    "                target = random.randint(0, span - 1)\n",
    "            targets_to_avoid.append(target)\n",
    "            batch[i * num_skips + j] = buffer[skip_window]\n",
    "            labels[i * num_skips + j] = buffer[target]\n",
    "        buffer.append(data[data_index])\n",
    "        data_index = (data_index + 1) % len(data)\n",
    "    return batch, labels"
   ]
  },
  {
   "cell_type": "code",
   "execution_count": 8,
   "metadata": {},
   "outputs": [
    {
     "name": "stdout",
     "output_type": "stream",
     "text": [
      "3081 originated -> 5234 anarchism\n",
      "3081 originated -> 12 as\n",
      "12 as -> 6 a\n",
      "12 as -> 3081 originated\n",
      "6 a -> 12 as\n",
      "6 a -> 195 term\n",
      "195 term -> 6 a\n",
      "195 term -> 2 of\n"
     ]
    }
   ],
   "source": [
    "data_index = 0\n",
    "batch, labels = generate_batch(batch_size=8, num_skips=2, skip_window=1)\n",
    "for i in range(8):\n",
    "    print(batch[i], reverse_dictionary[batch[i]], '->', labels[i, 0], reverse_dictionary[labels[i, 0]])"
   ]
  },
  {
   "cell_type": "code",
   "execution_count": 9,
   "metadata": {},
   "outputs": [],
   "source": [
    "batch_size = 128\n",
    "embedding_size = 128\n",
    "skip_window = 1\n",
    "num_skips = 2\n",
    "\n",
    "valid_size = 16            #用來驗證的單詞數\n",
    "valid_window = 100         #只從頻數前100高的詞抽取\n",
    "valid_examples = np.random.choice(valid_window, valid_size, replace=False)\n",
    "num_sampled = 64           #噪聲單詞數量"
   ]
  },
  {
   "cell_type": "code",
   "execution_count": 13,
   "metadata": {},
   "outputs": [
    {
     "name": "stdout",
     "output_type": "stream",
     "text": [
      "Initialized\n",
      "Nearest to over: eleanor, holbein, henrique, sixth, plate, edgerton, walther, realizing,\n",
      "Average loss at step  2000 :  113.3340799369812\n",
      "Average loss at step  4000 :  51.973287120103834\n",
      "Average loss at step  6000 :  34.75032259297371\n",
      "Average loss at step  8000 :  23.441740251541137\n",
      "Average loss at step  10000 :  17.816848940730093\n",
      "Nearest to over: plate, denver, mike, sixth, determines, roi, seven, tail,\n",
      "Average loss at step  12000 :  14.021331929922104\n",
      "Average loss at step  14000 :  11.625479837417602\n",
      "Average loss at step  16000 :  9.880560529112817\n",
      "Average loss at step  18000 :  8.978321503996849\n",
      "Average loss at step  20000 :  7.378712332963944\n",
      "Nearest to over: anoa, plate, seven, four, recitative, denver, electricity, cfc,\n",
      "Average loss at step  22000 :  7.433821877241135\n",
      "Average loss at step  24000 :  6.848018287181854\n",
      "Average loss at step  26000 :  6.637850007534027\n",
      "Average loss at step  28000 :  6.190489963889122\n",
      "Average loss at step  30000 :  5.884298511147499\n",
      "Nearest to over: plate, anoa, four, climactic, recitative, handicap, denver, seven,\n",
      "Average loss at step  32000 :  5.757089721441269\n",
      "Average loss at step  34000 :  5.91189821100235\n",
      "Average loss at step  36000 :  5.6035274916887285\n",
      "Average loss at step  38000 :  5.647130524396896\n",
      "Average loss at step  40000 :  5.451979873538018\n",
      "Nearest to over: plate, anoa, climactic, four, recitative, handicap, determines, seven,\n",
      "Average loss at step  42000 :  5.538955401420593\n",
      "Average loss at step  44000 :  5.167684660315514\n",
      "Average loss at step  46000 :  5.02101718622446\n",
      "Average loss at step  48000 :  5.370663707017899\n",
      "Average loss at step  50000 :  5.212238935708999\n",
      "Nearest to over: four, lemur, climactic, plate, anoa, six, recitative, seven,\n",
      "Average loss at step  52000 :  5.0452869781255725\n",
      "Average loss at step  54000 :  5.054268519878388\n",
      "Average loss at step  56000 :  5.04227680182457\n",
      "Average loss at step  58000 :  5.165583803772926\n",
      "Average loss at step  60000 :  5.003177887201309\n",
      "Nearest to over: lemur, climactic, plate, anoa, iit, cumin, yin, hamad,\n",
      "Average loss at step  62000 :  4.983852715015411\n",
      "Average loss at step  64000 :  5.018223561286926\n",
      "Average loss at step  66000 :  4.983320040941239\n",
      "Average loss at step  68000 :  4.9482314234972\n",
      "Average loss at step  70000 :  4.840295210719108\n",
      "Nearest to over: lemur, climactic, anoa, plate, cfc, iit, yin, cumin,\n",
      "Average loss at step  72000 :  4.843716005563736\n",
      "Average loss at step  74000 :  4.880320858597756\n",
      "Average loss at step  76000 :  4.738078585267067\n",
      "Average loss at step  78000 :  4.8548394998312\n",
      "Average loss at step  80000 :  4.741732306122779\n",
      "Nearest to over: lemur, climactic, anoa, yin, iit, three, six, plate,\n",
      "Average loss at step  82000 :  4.8068002179861065\n",
      "Average loss at step  84000 :  4.779975001692772\n",
      "Average loss at step  86000 :  4.735619690775871\n",
      "Average loss at step  88000 :  4.72953185236454\n",
      "Average loss at step  90000 :  4.717554732322693\n",
      "Nearest to over: lemur, climactic, anoa, yin, iit, hamad, cfc, at,\n",
      "Average loss at step  92000 :  4.6470182787179946\n",
      "Average loss at step  94000 :  4.554912365436554\n",
      "Average loss at step  96000 :  4.675781391620636\n",
      "Average loss at step  98000 :  4.6395541083812715\n",
      "Average loss at step  100000 :  4.63367662203312\n",
      "Nearest to over: lemur, climactic, iit, anoa, six, yin, hamad, cfc,\n"
     ]
    }
   ],
   "source": [
    "graph = tf.Graph()\n",
    "with graph.as_default():\n",
    "    \n",
    "    train_inputs = tf.placeholder(tf.int32, shape=[batch_size])\n",
    "    train_labels = tf.placeholder(tf.int32, shape=[batch_size, 1])\n",
    "    valid_dataset = tf.constant(valid_examples, dtype=tf.int32)\n",
    "    \n",
    "    embeddings = tf.Variable(tf.random_uniform([vocabulary_size, embedding_size], -1.0, 1.0))\n",
    "    embed = tf.nn.embedding_lookup(embeddings, train_inputs)\n",
    "    \n",
    "    \n",
    "    nce_weights = tf.Variable(tf.truncated_normal([vocabulary_size, embedding_size], stddev=1.0 / math.sqrt(embedding_size)))\n",
    "    nce_biases = tf.Variable(tf.zeros([vocabulary_size]))\n",
    "    \n",
    "    loss = tf.reduce_mean(tf.nn.nce_loss(weights = nce_weights, \n",
    "                                         biases = nce_biases,\n",
    "                                         labels = train_labels,\n",
    "                                         inputs = embed,\n",
    "                                         num_sampled = num_sampled,\n",
    "                                         num_classes = vocabulary_size))\n",
    "    \n",
    "    optimizer = tf.train.GradientDescentOptimizer(1.0).minimize(loss)\n",
    "    \n",
    "    norm = tf.sqrt(tf.reduce_sum(tf.square(embeddings), 1, keep_dims=True))   #L2范數\n",
    "    normalized_embeddings = embeddings / norm    # 標準化\n",
    "    valid_embeddings = tf.nn.embedding_lookup(normalized_embeddings, valid_dataset)\n",
    "    \n",
    "    similarity = tf.matmul(valid_embeddings, normalized_embeddings, transpose_b=True)\n",
    "    \n",
    "    init = tf.global_variables_initializer()\n",
    "    \n",
    "    num_steps = 100001\n",
    "\n",
    "    with tf.Session(graph=graph) as session:\n",
    "      # We must initialize all variables before we use them.\n",
    "        init.run()\n",
    "        print(\"Initialized\")\n",
    "\n",
    "        average_loss = 0\n",
    "        for step in range(num_steps):\n",
    "            batch_inputs, batch_labels = generate_batch(batch_size, num_skips, skip_window)\n",
    "            \n",
    "            feed_dict = {train_inputs : batch_inputs, train_labels : batch_labels}\n",
    "\n",
    "            # We perform one update step by evaluating the optimizer op (including it\n",
    "            # in the list of returned values for session.run()\n",
    "            _, loss_val = session.run([optimizer, loss], feed_dict=feed_dict)\n",
    "            average_loss += loss_val\n",
    "        \n",
    "            if step % 2000 == 0:\n",
    "                if step > 0:\n",
    "                    average_loss /= 2000\n",
    "                    # The average loss is an estimate of the loss over the last 2000 batches.\n",
    "                    print(\"Average loss at step \", step, \": \", average_loss)\n",
    "                    average_loss = 0\n",
    "                \n",
    "          \n",
    "\n",
    "        # Note that this is expensive (~20% slowdown if computed every 500 steps)\n",
    "            if step % 10000 == 0:\n",
    "                sim = similarity.eval()\n",
    "            \n",
    "                for i in range(valid_size):\n",
    "                    valid_word = reverse_dictionary[valid_examples[i]]\n",
    "                    top_k = 8 # number of nearest neighbors\n",
    "                    nearest = (-sim[i, :]).argsort()[1:top_k+1]\n",
    "                    log_str = \"Nearest to %s:\" % valid_word\n",
    "                    \n",
    "                for k in range(top_k):\n",
    "                    close_word = reverse_dictionary[nearest[k]]\n",
    "                    log_str = \"%s %s,\" % (log_str, close_word)\n",
    "                print(log_str)\n",
    "                \n",
    "        final_embeddings = normalized_embeddings.eval()"
   ]
  },
  {
   "cell_type": "code",
   "execution_count": 14,
   "metadata": {},
   "outputs": [],
   "source": [
    "def plot_with_labels(low_dim_embs, labels, filename='tsne.png'):\n",
    "    assert low_dim_embs.shape[0] >= len(labels), 'More labels than embeddings'\n",
    "    plt.figure(figsize=(18,18))\n",
    "    \n",
    "    for i,label in enumerate(labels):\n",
    "        x, y = low_dim_embs[i,:]\n",
    "        plt.scatter(x, y)\n",
    "        plt.annotate(label,\n",
    "                     xy=(x, y),\n",
    "                     xytext=(5, 2),\n",
    "                     textcoords='offset points',\n",
    "                     ha = 'right',\n",
    "                     va='bottom')\n",
    "    plt.savefig(filename)"
   ]
  },
  {
   "cell_type": "code",
   "execution_count": 19,
   "metadata": {},
   "outputs": [],
   "source": [
    "from sklearn.manifold import TSNE\n",
    "import matplotlib.pyplot as plt\n",
    "tsne = TSNE(perplexity=30, n_components=2, init='pca', n_iter=5000)\n",
    "\n",
    "plot_only = 100\n",
    "low_dim_embs = tsne.fit_transform(final_embeddings[:plot_only,:])\n",
    "labels = [reverse_dictionary[i] for i in range(plot_only)]\n",
    "plot_with_labels(low_dim_embs, labels)"
   ]
  },
  {
   "cell_type": "code",
   "execution_count": null,
   "metadata": {},
   "outputs": [],
   "source": []
  }
 ],
 "metadata": {
  "kernelspec": {
   "display_name": "Python 3",
   "language": "python",
   "name": "python3"
  },
  "language_info": {
   "codemirror_mode": {
    "name": "ipython",
    "version": 3
   },
   "file_extension": ".py",
   "mimetype": "text/x-python",
   "name": "python",
   "nbconvert_exporter": "python",
   "pygments_lexer": "ipython3",
   "version": "3.6.3"
  }
 },
 "nbformat": 4,
 "nbformat_minor": 2
}
