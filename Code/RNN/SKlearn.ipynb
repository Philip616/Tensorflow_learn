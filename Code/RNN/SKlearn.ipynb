{
 "cells": [
  {
   "cell_type": "code",
   "execution_count": 41,
   "metadata": {},
   "outputs": [],
   "source": [
    "from sklearn import model_selection\n",
    "from sklearn import datasets\n",
    "from sklearn import metrics\n",
    "import tensorflow as tf\n",
    "import numpy as np\n",
    "from tensorflow.contrib.learn.python.learn.estimators.estimator import SKCompat\n",
    "learn = tf.contrib.learn"
   ]
  },
  {
   "cell_type": "code",
   "execution_count": 42,
   "metadata": {},
   "outputs": [],
   "source": [
    "def my_model(features, target):\n",
    "    target = tf.one_hot(target, 3, 1, 0)\n",
    "    \n",
    "    #TF提供的單層logistic_regression神經網路\n",
    "    logits = tf.contrib.layers.fully_connected(features, 3, tf.nn.softmax)\n",
    "    loss = tf.losses.softmax_cross_entropy(target, logits)\n",
    "    \n",
    "    #創建模型優化器\n",
    "    train_op = tf.contrib.layers.optimize_loss(\n",
    "                loss,\n",
    "                tf.contrib.framework.get_global_step(),  #獲取訓練步數，在更新時更新\n",
    "                optimizer='Adam',\n",
    "                learning_rate=0.01)\n",
    "    return tf.arg_max(logits, 1), loss, train_op"
   ]
  },
  {
   "cell_type": "code",
   "execution_count": 43,
   "metadata": {
    "scrolled": true
   },
   "outputs": [
    {
     "name": "stdout",
     "output_type": "stream",
     "text": [
      "INFO:tensorflow:Using default config.\n",
      "INFO:tensorflow:Using config: {'_task_type': None, '_task_id': 0, '_cluster_spec': <tensorflow.python.training.server_lib.ClusterSpec object at 0x000001723A551748>, '_master': '', '_num_ps_replicas': 0, '_num_worker_replicas': 0, '_environment': 'local', '_is_chief': True, '_evaluation_master': '', '_tf_config': gpu_options {\n",
      "  per_process_gpu_memory_fraction: 1\n",
      "}\n",
      ", '_tf_random_seed': None, '_save_summary_steps': 100, '_save_checkpoints_secs': 600, '_log_step_count_steps': 100, '_session_config': None, '_save_checkpoints_steps': None, '_keep_checkpoint_max': 5, '_keep_checkpoint_every_n_hours': 10000, '_model_dir': './Model/model1'}\n",
      "INFO:tensorflow:Create CheckpointSaverHook.\n",
      "INFO:tensorflow:Restoring parameters from ./Model/model1\\model.ckpt-1800\n",
      "INFO:tensorflow:Saving checkpoints for 1801 into ./Model/model1\\model.ckpt.\n",
      "INFO:tensorflow:loss = 0.91814214, step = 1801\n",
      "INFO:tensorflow:global_step/sec: 204.169\n",
      "INFO:tensorflow:loss = 0.9181394, step = 1901 (0.490 sec)\n",
      "INFO:tensorflow:global_step/sec: 210.136\n",
      "INFO:tensorflow:loss = 0.918137, step = 2001 (0.477 sec)\n",
      "INFO:tensorflow:global_step/sec: 230.309\n",
      "INFO:tensorflow:loss = 0.91813487, step = 2101 (0.433 sec)\n",
      "INFO:tensorflow:global_step/sec: 223.36\n",
      "INFO:tensorflow:loss = 0.918133, step = 2201 (0.451 sec)\n",
      "INFO:tensorflow:global_step/sec: 207.126\n",
      "INFO:tensorflow:loss = 0.9181313, step = 2301 (0.481 sec)\n",
      "INFO:tensorflow:global_step/sec: 192.849\n",
      "INFO:tensorflow:loss = 0.91812986, step = 2401 (0.535 sec)\n",
      "INFO:tensorflow:global_step/sec: 211.787\n",
      "INFO:tensorflow:loss = 0.91812855, step = 2501 (0.455 sec)\n",
      "INFO:tensorflow:Saving checkpoints for 2600 into ./Model/model1\\model.ckpt.\n",
      "INFO:tensorflow:Loss for final step: 0.9181273.\n",
      "INFO:tensorflow:Restoring parameters from ./Model/model1\\model.ckpt-2600\n",
      "Accuracy: 80.00%\n"
     ]
    }
   ],
   "source": [
    "iris = datasets.load_iris()\n",
    "x_train, x_test, y_train, y_test = model_selection.train_test_split(iris.data, iris.target, test_size=0.2, random_state=0)\n",
    "x_train, x_test = map(np.float32, [x_train, x_test])\n",
    "\n",
    "classifier = SKCompat(learn.Estimator(model_fn=my_model, model_dir='./Model/model1'))\n",
    "classifier.fit(x_train, y_train, steps=800)\n",
    "\n",
    "y_predicted = [i for i in classifier.predict(x_test)]\n",
    "\n",
    "score = metrics.accuracy_score(y_test, y_predicted)\n",
    "print('Accuracy: %.2f%%' % (score * 100))"
   ]
  },
  {
   "cell_type": "code",
   "execution_count": 35,
   "metadata": {},
   "outputs": [
    {
     "data": {
      "text/plain": [
       "array([2, 1, 0, 2, 0, 2, 0, 1, 1, 1, 2, 1, 1, 1, 1, 0, 1, 1, 0, 0, 2, 1,\n",
       "       0, 0, 2, 0, 0, 1, 1, 0])"
      ]
     },
     "execution_count": 35,
     "metadata": {},
     "output_type": "execute_result"
    }
   ],
   "source": [
    "y_test"
   ]
  },
  {
   "cell_type": "code",
   "execution_count": null,
   "metadata": {},
   "outputs": [],
   "source": []
  }
 ],
 "metadata": {
  "kernelspec": {
   "display_name": "Python 3",
   "language": "python",
   "name": "python3"
  },
  "language_info": {
   "codemirror_mode": {
    "name": "ipython",
    "version": 3
   },
   "file_extension": ".py",
   "mimetype": "text/x-python",
   "name": "python",
   "nbconvert_exporter": "python",
   "pygments_lexer": "ipython3",
   "version": "3.6.3"
  }
 },
 "nbformat": 4,
 "nbformat_minor": 2
}
